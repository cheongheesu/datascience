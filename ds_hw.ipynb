{
 "cells": [
  {
   "cell_type": "markdown",
   "id": "defbe3f6",
   "metadata": {},
   "source": [
    "# 데이터사이언스개론 과제"
   ]
  },
  {
   "cell_type": "markdown",
   "id": "07eb2f76",
   "metadata": {},
   "source": [
    "## 통계학과 201904515 정희수"
   ]
  },
  {
   "cell_type": "markdown",
   "id": "acf4a010",
   "metadata": {},
   "source": [
    "class Node:\n",
    "    def __init__(self,data):\n",
    "        self.data = data\n",
    "        self.next = None\n",
    "\n",
    "class LinkedList:\n",
    "\n",
    "    def __init__(self):\n",
    "        dummy = Node('dummy')\n",
    "        self.head = dummy\n",
    "        self.tail = dummy\n",
    "\n",
    "        self.current = None\n",
    "        self.before = None\n",
    "\n",
    "        self.num_of_data = 0\n",
    "\n",
    "    def append(self, data):\n",
    "        new_node = Node(data)\n",
    "        self.tail.next = new_node\n",
    "        self.tail = new_node\n",
    "\n",
    "        self.num_of_data += 1\n",
    "\n",
    "    def delete(self):\n",
    "        pop_data = self.current.data\n",
    "\n",
    "        if self.current is self.tail:\n",
    "            self.tail = self.before\n",
    "\n",
    "            self.before.next = self.current.next\n",
    "            self.current = self.before\n",
    "\n",
    "            self.num_of_data -= 1\n",
    "\n",
    "            return pop_data\n",
    "\n",
    "    def first(self):\n",
    "        if self.num_of_data == 0:\n",
    "            return None\n",
    "\n",
    "        self.before = self.head\n",
    "        self.current = self.head.next\n",
    "\n",
    "        return self.current.data\n",
    "\n",
    "    def next(self):\n",
    "        if self.current.next == None:\n",
    "            return None\n",
    "\n",
    "        self.before = self.current\n",
    "        self.current = self.current.next\n",
    "\n",
    "        return self.current.data\n",
    "\n",
    "    def size(self):\n",
    "        return self.num_of_data\n",
    "\n",
    "    def traverse_all(self):\n",
    "        current = self.head.next\n",
    "        print(\"head\", end=\"\")\n",
    "        while current is not None:\n",
    "            print(f\" -> ({current.data})\", end=\"\")\n",
    "            current = current.next\n",
    "        print(\" -> Null\")\n",
    "        \n",
    "    def insert_at(self,position, new_data):\n",
    "        if position <= 0:\n",
    "            print('error')\n",
    "            return\n",
    "\n",
    "        new_node = Node(new_data)\n",
    "        \n",
    "        if position >= self.num_of_data:\n",
    "            new_node.next = None\n",
    "            self.tail.next = new_node\n",
    "            self.tail = new_node\n",
    "            self.num_of_data += 1\n",
    "            return\n",
    "        else:\n",
    "            current = self.head\n",
    "            current_position = 1\n",
    "            \n",
    "            while current_position < position:\n",
    "                current = current.next\n",
    "                current_position += 1\n",
    "\n",
    "            new_node.next = current.next\n",
    "            current.next = new_node\n",
    "\n",
    "        self.num_of_data += 1\n",
    "        \n",
    "    def remove(self,key):\n",
    "        self.before = self.head\n",
    "        self.current = self.head.next\n",
    "        position = 1\n",
    "        \n",
    "        while self.current is not None:\n",
    "            if self.current.data == key:\n",
    "                if self.current is self.tail:\n",
    "                    self.tail = self.before\n",
    "\n",
    "                self.before.next = self.current.next\n",
    "                self.current = self.before\n",
    "\n",
    "                self.num_of_data -= 1\n",
    "                \n",
    "                print(f'{position}번째 원소{key}를 삭제합니다. 해당하는 원소가 없습니다.')\n",
    "            \n",
    "            self.before = self.current\n",
    "            self.current = self.current.next\n",
    "            \n",
    "            position += 1"
   ]
  },
  {
   "cell_type": "code",
   "execution_count": 1,
   "id": "ff1e5fc9",
   "metadata": {},
   "outputs": [],
   "source": [
    "from myssl import *"
   ]
  },
  {
   "cell_type": "code",
   "execution_count": 2,
   "id": "ea13b367",
   "metadata": {},
   "outputs": [],
   "source": [
    "l_list=LinkedList()"
   ]
  },
  {
   "cell_type": "code",
   "execution_count": 3,
   "id": "34de85aa",
   "metadata": {},
   "outputs": [],
   "source": [
    "l_list.head=Node('dummy')"
   ]
  },
  {
   "cell_type": "code",
   "execution_count": 4,
   "id": "803ae702",
   "metadata": {},
   "outputs": [],
   "source": [
    "l_list.tail=l_list.head"
   ]
  },
  {
   "cell_type": "code",
   "execution_count": 5,
   "id": "80465daf",
   "metadata": {},
   "outputs": [],
   "source": [
    "l_list.append(100)"
   ]
  },
  {
   "cell_type": "code",
   "execution_count": 6,
   "id": "4d3ea855",
   "metadata": {},
   "outputs": [],
   "source": [
    "l_list.append(72)"
   ]
  },
  {
   "cell_type": "code",
   "execution_count": 7,
   "id": "564a0297",
   "metadata": {},
   "outputs": [],
   "source": [
    "l_list.append(325)"
   ]
  },
  {
   "cell_type": "code",
   "execution_count": 8,
   "id": "c658d1d2",
   "metadata": {
    "scrolled": true
   },
   "outputs": [
    {
     "name": "stdout",
     "output_type": "stream",
     "text": [
      "head -> (100) -> (72) -> (325) -> Null\n"
     ]
    }
   ],
   "source": [
    "l_list.traverse_all()"
   ]
  },
  {
   "cell_type": "code",
   "execution_count": 9,
   "id": "7b7d4274",
   "metadata": {
    "scrolled": false
   },
   "outputs": [],
   "source": [
    "l_list.insert_at(1,200)"
   ]
  },
  {
   "cell_type": "code",
   "execution_count": 10,
   "id": "56c29e3f",
   "metadata": {},
   "outputs": [
    {
     "name": "stdout",
     "output_type": "stream",
     "text": [
      "head -> (200) -> (100) -> (72) -> (325) -> Null\n"
     ]
    }
   ],
   "source": [
    "l_list.traverse_all()"
   ]
  },
  {
   "cell_type": "code",
   "execution_count": 11,
   "id": "d5a8bbe7",
   "metadata": {},
   "outputs": [],
   "source": [
    "l_list.insert_at(2,300)"
   ]
  },
  {
   "cell_type": "code",
   "execution_count": 12,
   "id": "d589c456",
   "metadata": {},
   "outputs": [
    {
     "name": "stdout",
     "output_type": "stream",
     "text": [
      "head -> (200) -> (300) -> (100) -> (72) -> (325) -> Null\n"
     ]
    }
   ],
   "source": [
    "l_list.traverse_all()"
   ]
  },
  {
   "cell_type": "code",
   "execution_count": 13,
   "id": "73b34f9b",
   "metadata": {},
   "outputs": [],
   "source": [
    "l_list.insert_at(4,500)"
   ]
  },
  {
   "cell_type": "code",
   "execution_count": 14,
   "id": "75ac9575",
   "metadata": {
    "scrolled": true
   },
   "outputs": [
    {
     "name": "stdout",
     "output_type": "stream",
     "text": [
      "head -> (200) -> (300) -> (100) -> (500) -> (72) -> (325) -> Null\n"
     ]
    }
   ],
   "source": [
    "l_list.traverse_all()"
   ]
  },
  {
   "cell_type": "code",
   "execution_count": 15,
   "id": "59a51a63",
   "metadata": {},
   "outputs": [
    {
     "name": "stdout",
     "output_type": "stream",
     "text": [
      "error\n"
     ]
    }
   ],
   "source": [
    "l_list.insert_at(0,600)"
   ]
  },
  {
   "cell_type": "code",
   "execution_count": 16,
   "id": "29956446",
   "metadata": {},
   "outputs": [
    {
     "name": "stdout",
     "output_type": "stream",
     "text": [
      "head -> (200) -> (300) -> (100) -> (500) -> (72) -> (325) -> Null\n"
     ]
    }
   ],
   "source": [
    "l_list.traverse_all()"
   ]
  },
  {
   "cell_type": "code",
   "execution_count": 17,
   "id": "9961020a",
   "metadata": {},
   "outputs": [],
   "source": [
    "l_list.insert_at(10,500)"
   ]
  },
  {
   "cell_type": "code",
   "execution_count": 18,
   "id": "ffa71553",
   "metadata": {},
   "outputs": [
    {
     "name": "stdout",
     "output_type": "stream",
     "text": [
      "head -> (200) -> (300) -> (100) -> (500) -> (72) -> (325) -> (500) -> Null\n"
     ]
    }
   ],
   "source": [
    "l_list.traverse_all()"
   ]
  },
  {
   "cell_type": "code",
   "execution_count": 19,
   "id": "197a0e7a",
   "metadata": {},
   "outputs": [
    {
     "name": "stdout",
     "output_type": "stream",
     "text": [
      "4번째 원소500를 삭제합니다. 해당하는 원소가 없습니다.\n",
      "7번째 원소500를 삭제합니다. 해당하는 원소가 없습니다.\n"
     ]
    }
   ],
   "source": [
    "l_list.remove(500)"
   ]
  },
  {
   "cell_type": "code",
   "execution_count": 20,
   "id": "6288e822",
   "metadata": {},
   "outputs": [
    {
     "name": "stdout",
     "output_type": "stream",
     "text": [
      "head -> (200) -> (300) -> (100) -> (72) -> (325) -> Null\n"
     ]
    }
   ],
   "source": [
    "l_list.traverse_all()"
   ]
  },
  {
   "cell_type": "code",
   "execution_count": null,
   "id": "82ae8023",
   "metadata": {},
   "outputs": [],
   "source": []
  }
 ],
 "metadata": {
  "kernelspec": {
   "display_name": "Python 3 (ipykernel)",
   "language": "python",
   "name": "python3"
  },
  "language_info": {
   "codemirror_mode": {
    "name": "ipython",
    "version": 3
   },
   "file_extension": ".py",
   "mimetype": "text/x-python",
   "name": "python",
   "nbconvert_exporter": "python",
   "pygments_lexer": "ipython3",
   "version": "3.10.9"
  },
  "toc": {
   "base_numbering": 1,
   "nav_menu": {},
   "number_sections": true,
   "sideBar": true,
   "skip_h1_title": false,
   "title_cell": "Table of Contents",
   "title_sidebar": "Contents",
   "toc_cell": false,
   "toc_position": {},
   "toc_section_display": true,
   "toc_window_display": false
  },
  "varInspector": {
   "cols": {
    "lenName": 16,
    "lenType": 16,
    "lenVar": 40
   },
   "kernels_config": {
    "python": {
     "delete_cmd_postfix": "",
     "delete_cmd_prefix": "del ",
     "library": "var_list.py",
     "varRefreshCmd": "print(var_dic_list())"
    },
    "r": {
     "delete_cmd_postfix": ") ",
     "delete_cmd_prefix": "rm(",
     "library": "var_list.r",
     "varRefreshCmd": "cat(var_dic_list()) "
    }
   },
   "types_to_exclude": [
    "module",
    "function",
    "builtin_function_or_method",
    "instance",
    "_Feature"
   ],
   "window_display": false
  }
 },
 "nbformat": 4,
 "nbformat_minor": 5
}
