{
 "cells": [
  {
   "cell_type": "markdown",
   "id": "defbe3f6",
   "metadata": {},
   "source": [
    "# 데이터사이언스개론 과제\n",
    "## 통계학과 201904515 정희수"
   ]
  },
  {
   "cell_type": "markdown",
   "id": "8370a0a4",
   "metadata": {},
   "source": [
    "### 전체 코드\n",
    "\n",
    "class Node:\n",
    "\n",
    "    def __init__(self,data):\n",
    "        self.data = data\n",
    "        self.next = None\n",
    "\n",
    "class LinkedList:\n",
    "\n",
    "    def __init__(self):\n",
    "        dummy = Node('dummy')\n",
    "        self.head = dummy\n",
    "        self.tail = dummy\n",
    "\n",
    "        self.current = None\n",
    "        self.before = None\n",
    "\n",
    "        self.num_of_data = 0\n",
    "\n",
    "    def append(self, data):\n",
    "        new_node = Node(data)\n",
    "        self.tail.next = new_node\n",
    "        self.tail = new_node\n",
    "\n",
    "        self.num_of_data += 1\n",
    "\n",
    "    def delete(self):\n",
    "        pop_data = self.current.data\n",
    "\n",
    "        if self.current is self.tail:\n",
    "            self.tail = self.before\n",
    "\n",
    "            self.before.next = self.current.next\n",
    "            self.current = self.before\n",
    "\n",
    "            self.num_of_data -= 1\n",
    "\n",
    "            return pop_data\n",
    "\n",
    "    def first(self):\n",
    "        if self.num_of_data == 0:\n",
    "            return None\n",
    "\n",
    "        self.before = self.head\n",
    "        self.current = self.head.next\n",
    "\n",
    "        return self.current.data\n",
    "\n",
    "    def next(self):\n",
    "        if self.current.next == None:\n",
    "            return None\n",
    "\n",
    "        self.before = self.current\n",
    "        self.current = self.current.next\n",
    "\n",
    "        return self.current.data\n",
    "\n",
    "    def size(self):\n",
    "        return self.num_of_data\n",
    "\n",
    "    def traverse_all(self):                           #정상동작\n",
    "        current = self.head.next\n",
    "        print(\"head\", end=\"\")\n",
    "        while current is not None:\n",
    "            print(f\" -> ({current.data})\", end=\"\")\n",
    "            current = current.next\n",
    "        print(\" -> Null\")\n",
    "        \n",
    "    def insert_at(self,position, new_data):           #정상동작\n",
    "        if position <= 0:\n",
    "            print('error')\n",
    "            return\n",
    "\n",
    "        new_node = Node(new_data)\n",
    "        \n",
    "        if position >= self.num_of_data:\n",
    "            new_node.next = None\n",
    "            self.tail.next = new_node\n",
    "            self.tail = new_node\n",
    "            self.num_of_data += 1\n",
    "            return\n",
    "        else:\n",
    "            current = self.head\n",
    "            current_position = 1\n",
    "            \n",
    "            while current_position < position:\n",
    "                current = current.next\n",
    "                current_position += 1\n",
    "\n",
    "            new_node.next = current.next\n",
    "            current.next = new_node\n",
    "\n",
    "        self.num_of_data += 1\n",
    "        \n",
    "    def remove(self,key):                              #정상동작\n",
    "        self.before = self.head\n",
    "        self.current = self.head.next\n",
    "        position = 1\n",
    "        \n",
    "        while self.current is not None:\n",
    "            if self.current.data == key:\n",
    "                if self.current is self.tail:\n",
    "                    self.tail = self.before\n",
    "\n",
    "                self.before.next = self.current.next\n",
    "                self.current = self.before\n",
    "\n",
    "                self.num_of_data -= 1\n",
    "                \n",
    "                print(f'{position}번째 원소{key}를 삭제합니다. 해당하는 원소가 없습니다.')\n",
    "            \n",
    "            self.before = self.current\n",
    "            self.current = self.current.next\n",
    "            \n",
    "            position += 1    "
   ]
  },
  {
   "cell_type": "markdown",
   "id": "e81d82d9",
   "metadata": {},
   "source": [
    "# traverse_all() 함수"
   ]
  },
  {
   "cell_type": "markdown",
   "id": "332781e4",
   "metadata": {},
   "source": [
    "## 함수 코드\n",
    "```\n",
    "def traverse_all(self):\n",
    "    current = self.head.next\n",
    "    print(\"head\", end=\"\")\n",
    "    while current is not None:\n",
    "        print(f\" -> ({current.data})\", end=\"\")\n",
    "        current = current.next\n",
    "    print(\" -> Null\")\n",
    "```"
   ]
  },
  {
   "cell_type": "markdown",
   "id": "dcf08d46",
   "metadata": {},
   "source": [
    "### 함수 설명\n",
    "```\n",
    "현재 노드를 head 노드 다음 노드로 지정함.\n",
    "tail 노드 다음에 오는 데이터가 없으므로 현재 노드가 None 이 아닐 조건을 만족할때까지 해당되는 \n",
    "현재 노드를 모두 출력.\n",
    "출력한 이후에 다음 노드로 넘어갈때, 현재 출력된 노드의 다음 노드가 다시 현재 노드로 바뀌므로 \n",
    "current = current.next 로 지정.\n",
    "그리고 마지막에 Null 을 출력해줌으로써 마무리 함.\n",
    "```"
   ]
  },
  {
   "cell_type": "markdown",
   "id": "7ef54999",
   "metadata": {},
   "source": [
    "### traverse_all 코드 출력"
   ]
  },
  {
   "cell_type": "code",
   "execution_count": 1,
   "id": "ff1e5fc9",
   "metadata": {},
   "outputs": [],
   "source": [
    "from myssl import *"
   ]
  },
  {
   "cell_type": "code",
   "execution_count": 2,
   "id": "ea13b367",
   "metadata": {},
   "outputs": [],
   "source": [
    "l_list=LinkedList()"
   ]
  },
  {
   "cell_type": "code",
   "execution_count": 3,
   "id": "34de85aa",
   "metadata": {},
   "outputs": [],
   "source": [
    "l_list.head=Node('dummy') # 헤드 노드를 더미 노드로 지정해준다."
   ]
  },
  {
   "cell_type": "code",
   "execution_count": 4,
   "id": "803ae702",
   "metadata": {},
   "outputs": [],
   "source": [
    "l_list.tail=l_list.head"
   ]
  },
  {
   "cell_type": "code",
   "execution_count": 5,
   "id": "80465daf",
   "metadata": {},
   "outputs": [],
   "source": [
    "l_list.append(100)"
   ]
  },
  {
   "cell_type": "code",
   "execution_count": 6,
   "id": "4d3ea855",
   "metadata": {},
   "outputs": [],
   "source": [
    "l_list.append(72)"
   ]
  },
  {
   "cell_type": "code",
   "execution_count": 7,
   "id": "564a0297",
   "metadata": {},
   "outputs": [],
   "source": [
    "l_list.append(325)"
   ]
  },
  {
   "cell_type": "code",
   "execution_count": 8,
   "id": "c658d1d2",
   "metadata": {
    "scrolled": true
   },
   "outputs": [
    {
     "name": "stdout",
     "output_type": "stream",
     "text": [
      "head -> (100) -> (72) -> (325) -> Null\n"
     ]
    }
   ],
   "source": [
    "l_list.traverse_all()"
   ]
  },
  {
   "cell_type": "markdown",
   "id": "d5587b85",
   "metadata": {},
   "source": [
    "# insert_at(position, new_data) 함수"
   ]
  },
  {
   "cell_type": "markdown",
   "id": "93f2b169",
   "metadata": {},
   "source": [
    "## 함수 코드\n",
    "```\n",
    "def insert_at(self,position, new_data):\n",
    "    if position <= 0:\n",
    "        print('error')\n",
    "        return\n",
    "\n",
    "    new_node = Node(new_data)\n",
    "    \n",
    "    if position >= self.num_of_data: \n",
    "        new_node.next = None          \n",
    "        self.tail.next = new_node\n",
    "        self.tail = new_node\n",
    "        self.num_of_data += 1\n",
    "        return\n",
    "    else:\n",
    "        current = self.head\n",
    "        current_position = 1\n",
    "        \n",
    "        while current_position < position:\n",
    "            current = current.next\n",
    "            current_position += 1\n",
    "\n",
    "        new_node.next = current.next\n",
    "        current.next = new_node\n",
    "\n",
    "    self.num_of_data += 1\n",
    "```"
   ]
  },
  {
   "cell_type": "markdown",
   "id": "a2db96d9",
   "metadata": {},
   "source": [
    "### 함수 설명\n",
    "```\n",
    "위치가 0보다 작으면 에러를 출력하고 다시 원상태로 돌아가게 함.\n",
    "위치가 리스트의 크기보다 클때 현재 리스트의 테일 노드 뒤에 새로운 노드를 삽입.\n",
    "이때 처음에는 append 함수를 이용.\n",
    "하지만 오류가 계속 떠서 강의자료에 있는 테일 노드 뒤에 노드를 삽입하는 조건문 자체를 입력했더니 에러가 없어짐.\n",
    "그리고 위치가 리스트의 크기보다 작을때 인데 위치가 1인 경우와 1이 아닌 경우로 또 나뉨.\n",
    "위치가 1인 경우, 맨 앞에 노드가 삽입되기 때문에 같은 함수를 쓸 수 없음.\n",
    "그래서 else 구문 안에 while 구문을 넣어서 현재 위치가 주어진 위치보다 작은 경우는 노드와 \n",
    "노드 사이에 새로운 노드가 삽입되는 경우를 뜻함.\n",
    "그리고 마지막에 위치가 1 일때 맨 앞에 노드가 삽입되는 경우를 넣음.\n",
    "```"
   ]
  },
  {
   "cell_type": "markdown",
   "id": "7eb75784",
   "metadata": {},
   "source": [
    "### insert_at(position, new_data) 함수 코드 출력"
   ]
  },
  {
   "cell_type": "code",
   "execution_count": 9,
   "id": "7b7d4274",
   "metadata": {
    "scrolled": false
   },
   "outputs": [],
   "source": [
    "l_list.insert_at(1,200)  #맨 앞에 노드가 삽입되는 경우"
   ]
  },
  {
   "cell_type": "code",
   "execution_count": 10,
   "id": "56c29e3f",
   "metadata": {},
   "outputs": [
    {
     "name": "stdout",
     "output_type": "stream",
     "text": [
      "head -> (200) -> (100) -> (72) -> (325) -> Null\n"
     ]
    }
   ],
   "source": [
    "l_list.traverse_all()"
   ]
  },
  {
   "cell_type": "code",
   "execution_count": 11,
   "id": "d5a8bbe7",
   "metadata": {},
   "outputs": [],
   "source": [
    "l_list.insert_at(2,300)"
   ]
  },
  {
   "cell_type": "code",
   "execution_count": 12,
   "id": "d589c456",
   "metadata": {},
   "outputs": [
    {
     "name": "stdout",
     "output_type": "stream",
     "text": [
      "head -> (200) -> (300) -> (100) -> (72) -> (325) -> Null\n"
     ]
    }
   ],
   "source": [
    "l_list.traverse_all()"
   ]
  },
  {
   "cell_type": "code",
   "execution_count": 13,
   "id": "73b34f9b",
   "metadata": {},
   "outputs": [],
   "source": [
    "l_list.insert_at(4,500)"
   ]
  },
  {
   "cell_type": "code",
   "execution_count": 14,
   "id": "75ac9575",
   "metadata": {
    "scrolled": true
   },
   "outputs": [
    {
     "name": "stdout",
     "output_type": "stream",
     "text": [
      "head -> (200) -> (300) -> (100) -> (500) -> (72) -> (325) -> Null\n"
     ]
    }
   ],
   "source": [
    "l_list.traverse_all()"
   ]
  },
  {
   "cell_type": "code",
   "execution_count": 15,
   "id": "59a51a63",
   "metadata": {},
   "outputs": [
    {
     "name": "stdout",
     "output_type": "stream",
     "text": [
      "error\n"
     ]
    }
   ],
   "source": [
    "l_list.insert_at(0,600)  # 위치가 0 인 경우"
   ]
  },
  {
   "cell_type": "code",
   "execution_count": 16,
   "id": "29956446",
   "metadata": {},
   "outputs": [
    {
     "name": "stdout",
     "output_type": "stream",
     "text": [
      "head -> (200) -> (300) -> (100) -> (500) -> (72) -> (325) -> Null\n"
     ]
    }
   ],
   "source": [
    "l_list.traverse_all()"
   ]
  },
  {
   "cell_type": "code",
   "execution_count": 17,
   "id": "9961020a",
   "metadata": {},
   "outputs": [],
   "source": [
    "l_list.insert_at(10,500)  #위치가 현재 리스트의 크기보다 큰 경우"
   ]
  },
  {
   "cell_type": "code",
   "execution_count": 18,
   "id": "ffa71553",
   "metadata": {},
   "outputs": [
    {
     "name": "stdout",
     "output_type": "stream",
     "text": [
      "head -> (200) -> (300) -> (100) -> (500) -> (72) -> (325) -> (500) -> Null\n"
     ]
    }
   ],
   "source": [
    "l_list.traverse_all()"
   ]
  },
  {
   "cell_type": "markdown",
   "id": "bffcf36d",
   "metadata": {},
   "source": [
    "# remove(key) 함수 설명"
   ]
  },
  {
   "cell_type": "markdown",
   "id": "5cd6bdb1",
   "metadata": {},
   "source": [
    "## 함수 코드\n",
    "```\n",
    "def remove(self,key):\n",
    "    self.before = self.head\n",
    "    self.current = self.head.next\n",
    "    position = 1\n",
    "    \n",
    "    while self.current is not None:\n",
    "        if self.current.data == key:\n",
    "            if self.current is self.tail:\n",
    "                self.tail = self.before\n",
    "\n",
    "            self.before.next = self.current.next\n",
    "            self.current = self.before\n",
    "\n",
    "            self.num_of_data -= 1\n",
    "            \n",
    "            print(f'{position}번째 원소{key}를 삭제합니다. 해당하는 원소가 없습니다.')\n",
    "        \n",
    "        self.before = self.current\n",
    "        self.current = self.current.next\n",
    "        \n",
    "        position += 1            \n",
    "```"
   ]
  },
  {
   "cell_type": "markdown",
   "id": "4daa6625",
   "metadata": {},
   "source": [
    "### 함수 설명\n",
    "```\n",
    "insert 처럼 이전 노드와 현재 노드 초기화 시켜줌.\n",
    "while 조건문에 있는 if 조건문은 insert 에서와 마찬가지로 강의자료에서 delete 에 주어진 부분을 \n",
    "가져옴.\n",
    "remove 도 어차피 delete 에서 조건들이 추가로 붙은 경우라 delete 와 크게 다를 바 없다고 생각함.\n",
    "key 와 같은 값을 갖는 원소와 원소의 위치를 찾고 삭제함.\n",
    "삭제할때마다 노드가 하나씩 줄어들기 때문에 리스트의 크기도 하나씩 줄어들것임.\n",
    "그리고 while 문 안에서 삭제할 원소를 찾을때 위치를 하나씩 옮기면서 찾게 만듬.\n",
    "처음에 print 문을 while 문 마지막에 넣으니 print 출력문이 계속 나왔음.\n",
    "```"
   ]
  },
  {
   "cell_type": "markdown",
   "id": "a467dd79",
   "metadata": {},
   "source": [
    "### remove(key) 함수 코드 출력"
   ]
  },
  {
   "cell_type": "code",
   "execution_count": 19,
   "id": "69868c46",
   "metadata": {},
   "outputs": [
    {
     "name": "stdout",
     "output_type": "stream",
     "text": [
      "4번째 원소 500를 삭제합니다. 해당하는 원소가 없습니다.\n",
      "7번째 원소 500를 삭제합니다. 해당하는 원소가 없습니다.\n"
     ]
    }
   ],
   "source": [
    "l_list.remove(500)  # key 500 과 같은 값을 갖는 원소와 원소의 위치를 확인한 후, 삭제"
   ]
  },
  {
   "cell_type": "code",
   "execution_count": 20,
   "id": "6288e822",
   "metadata": {
    "scrolled": true
   },
   "outputs": [
    {
     "name": "stdout",
     "output_type": "stream",
     "text": [
      "head -> (200) -> (300) -> (100) -> (72) -> (325) -> Null\n"
     ]
    }
   ],
   "source": [
    "l_list.traverse_all()"
   ]
  },
  {
   "cell_type": "markdown",
   "id": "eb330808",
   "metadata": {},
   "source": [
    "# 여러가지 조건 대입하여 새로 추가한 함수 기능 확인하기"
   ]
  },
  {
   "cell_type": "markdown",
   "id": "bab9206b",
   "metadata": {},
   "source": [
    "## (숫자 + 문자열) 리스트인 경우 -> 문자열 삽입하는 경우"
   ]
  },
  {
   "cell_type": "markdown",
   "id": "27c12769",
   "metadata": {},
   "source": [
    "### LinkedList 만들기"
   ]
  },
  {
   "cell_type": "code",
   "execution_count": 21,
   "id": "49595e3f",
   "metadata": {},
   "outputs": [],
   "source": [
    "from myssl import*\n",
    "\n",
    "s_list = LinkedList()"
   ]
  },
  {
   "cell_type": "code",
   "execution_count": 22,
   "id": "ce35c871",
   "metadata": {},
   "outputs": [],
   "source": [
    "s_list.head = Node ('head')"
   ]
  },
  {
   "cell_type": "code",
   "execution_count": 23,
   "id": "15896232",
   "metadata": {},
   "outputs": [],
   "source": [
    "s_list.tail= s_list.head"
   ]
  },
  {
   "cell_type": "code",
   "execution_count": 24,
   "id": "bdfda343",
   "metadata": {},
   "outputs": [],
   "source": [
    "s_list.append(70)"
   ]
  },
  {
   "cell_type": "code",
   "execution_count": 25,
   "id": "59c142bf",
   "metadata": {},
   "outputs": [],
   "source": [
    "s_list.append(89)"
   ]
  },
  {
   "cell_type": "code",
   "execution_count": 26,
   "id": "5eefa523",
   "metadata": {},
   "outputs": [],
   "source": [
    "s_list.append(126)"
   ]
  },
  {
   "cell_type": "code",
   "execution_count": 27,
   "id": "9d729224",
   "metadata": {},
   "outputs": [],
   "source": [
    "s_list.append('희수')"
   ]
  },
  {
   "cell_type": "code",
   "execution_count": 28,
   "id": "e40fd991",
   "metadata": {},
   "outputs": [],
   "source": [
    "s_list.append('혜인')"
   ]
  },
  {
   "cell_type": "markdown",
   "id": "1b03bda8",
   "metadata": {},
   "source": [
    "### traverse_all() 함수 사용하여 리스트 출력하기"
   ]
  },
  {
   "cell_type": "code",
   "execution_count": 29,
   "id": "f91c5065",
   "metadata": {},
   "outputs": [
    {
     "name": "stdout",
     "output_type": "stream",
     "text": [
      "head -> (70) -> (89) -> (126) -> (희수) -> (혜인) -> Null\n"
     ]
    }
   ],
   "source": [
    "s_list.traverse_all()"
   ]
  },
  {
   "cell_type": "markdown",
   "id": "0bbc784b",
   "metadata": {},
   "source": [
    "### insert_at(position, new_data) 함수 사용하여 노드 삽입하기"
   ]
  },
  {
   "cell_type": "code",
   "execution_count": 30,
   "id": "4c57ea19",
   "metadata": {},
   "outputs": [],
   "source": [
    "s_list.insert_at(1,'윤석')"
   ]
  },
  {
   "cell_type": "code",
   "execution_count": 31,
   "id": "9408096e",
   "metadata": {},
   "outputs": [],
   "source": [
    "s_list.insert_at(10,999)"
   ]
  },
  {
   "cell_type": "code",
   "execution_count": 32,
   "id": "bfe5b97d",
   "metadata": {},
   "outputs": [],
   "source": [
    "s_list.insert_at(4,999)"
   ]
  },
  {
   "cell_type": "code",
   "execution_count": 33,
   "id": "ea2e938b",
   "metadata": {},
   "outputs": [
    {
     "name": "stdout",
     "output_type": "stream",
     "text": [
      "error\n"
     ]
    }
   ],
   "source": [
    "s_list.insert_at(0,246)"
   ]
  },
  {
   "cell_type": "code",
   "execution_count": 34,
   "id": "aa91f0db",
   "metadata": {},
   "outputs": [],
   "source": [
    "s_list.insert_at(6,123)"
   ]
  },
  {
   "cell_type": "code",
   "execution_count": 35,
   "id": "a0fd20b1",
   "metadata": {},
   "outputs": [],
   "source": [
    "s_list.insert_at(1,123)"
   ]
  },
  {
   "cell_type": "code",
   "execution_count": 36,
   "id": "7ed5f353",
   "metadata": {},
   "outputs": [
    {
     "name": "stdout",
     "output_type": "stream",
     "text": [
      "head -> (123) -> (윤석) -> (70) -> (89) -> (999) -> (126) -> (123) -> (희수) -> (혜인) -> (999) -> Null\n"
     ]
    }
   ],
   "source": [
    "s_list.traverse_all()"
   ]
  },
  {
   "cell_type": "markdown",
   "id": "9e249d45",
   "metadata": {},
   "source": [
    "### remove(key) 함수 사용하여 노드 삭제하기"
   ]
  },
  {
   "cell_type": "code",
   "execution_count": 37,
   "id": "3824399d",
   "metadata": {},
   "outputs": [
    {
     "name": "stdout",
     "output_type": "stream",
     "text": [
      "5번째 원소 999를 삭제합니다. 해당하는 원소가 없습니다.\n",
      "10번째 원소 999를 삭제합니다. 해당하는 원소가 없습니다.\n"
     ]
    }
   ],
   "source": [
    "s_list.remove(999)"
   ]
  },
  {
   "cell_type": "code",
   "execution_count": 38,
   "id": "a194fb42",
   "metadata": {},
   "outputs": [
    {
     "name": "stdout",
     "output_type": "stream",
     "text": [
      "head -> (123) -> (윤석) -> (70) -> (89) -> (126) -> (123) -> (희수) -> (혜인) -> Null\n"
     ]
    }
   ],
   "source": [
    "s_list.traverse_all()"
   ]
  },
  {
   "cell_type": "code",
   "execution_count": 39,
   "id": "36000297",
   "metadata": {},
   "outputs": [
    {
     "name": "stdout",
     "output_type": "stream",
     "text": [
      "1번째 원소 123를 삭제합니다. 해당하는 원소가 없습니다.\n",
      "6번째 원소 123를 삭제합니다. 해당하는 원소가 없습니다.\n"
     ]
    }
   ],
   "source": [
    "s_list.remove(123)"
   ]
  },
  {
   "cell_type": "code",
   "execution_count": 40,
   "id": "39ae73b9",
   "metadata": {
    "scrolled": true
   },
   "outputs": [
    {
     "name": "stdout",
     "output_type": "stream",
     "text": [
      "head -> (윤석) -> (70) -> (89) -> (126) -> (희수) -> (혜인) -> Null\n"
     ]
    }
   ],
   "source": [
    "s_list.traverse_all()"
   ]
  },
  {
   "cell_type": "markdown",
   "id": "3ad269d6",
   "metadata": {},
   "source": [
    "## (숫자 + 문자열) 리스트인 경우 -> 문자열 삽입 + 문자열 삭제하는 경우"
   ]
  },
  {
   "cell_type": "markdown",
   "id": "dee3d3ae",
   "metadata": {},
   "source": [
    "### LinkedList 만들기"
   ]
  },
  {
   "cell_type": "code",
   "execution_count": 41,
   "id": "c553e739",
   "metadata": {},
   "outputs": [],
   "source": [
    "from myssl import *\n",
    "\n",
    "h_list = LinkedList()"
   ]
  },
  {
   "cell_type": "code",
   "execution_count": 42,
   "id": "46f4806d",
   "metadata": {},
   "outputs": [],
   "source": [
    "h_list.head = Node('head')"
   ]
  },
  {
   "cell_type": "code",
   "execution_count": 43,
   "id": "1ee8e9a4",
   "metadata": {},
   "outputs": [],
   "source": [
    "h_list.tail = h_list.head"
   ]
  },
  {
   "cell_type": "code",
   "execution_count": 44,
   "id": "d405f467",
   "metadata": {},
   "outputs": [],
   "source": [
    "h_list.append(20)"
   ]
  },
  {
   "cell_type": "code",
   "execution_count": 45,
   "id": "186b737d",
   "metadata": {},
   "outputs": [],
   "source": [
    "h_list.append(80)"
   ]
  },
  {
   "cell_type": "code",
   "execution_count": 46,
   "id": "3cf50f32",
   "metadata": {},
   "outputs": [],
   "source": [
    "h_list.append('순이')"
   ]
  },
  {
   "cell_type": "code",
   "execution_count": 47,
   "id": "85f2a49e",
   "metadata": {},
   "outputs": [],
   "source": [
    "h_list.append(90)"
   ]
  },
  {
   "cell_type": "code",
   "execution_count": 48,
   "id": "1081379d",
   "metadata": {},
   "outputs": [],
   "source": [
    "h_list.append('식이')"
   ]
  },
  {
   "cell_type": "code",
   "execution_count": 49,
   "id": "99f800f4",
   "metadata": {},
   "outputs": [],
   "source": [
    "h_list.append(100)"
   ]
  },
  {
   "cell_type": "markdown",
   "id": "a1461b27",
   "metadata": {},
   "source": [
    "### traverse_all() 함수 사용하여 리스트 출력하기"
   ]
  },
  {
   "cell_type": "code",
   "execution_count": 50,
   "id": "5c4e3dda",
   "metadata": {},
   "outputs": [
    {
     "name": "stdout",
     "output_type": "stream",
     "text": [
      "head -> (20) -> (80) -> (순이) -> (90) -> (식이) -> (100) -> Null\n"
     ]
    }
   ],
   "source": [
    "h_list.traverse_all()"
   ]
  },
  {
   "cell_type": "markdown",
   "id": "2fe4715b",
   "metadata": {},
   "source": [
    "### insert_at(position, new_data) 함수 사용하여 노드 삽입하기"
   ]
  },
  {
   "cell_type": "code",
   "execution_count": 51,
   "id": "731a5a5c",
   "metadata": {},
   "outputs": [],
   "source": [
    "h_list.insert_at(5,'연희')"
   ]
  },
  {
   "cell_type": "code",
   "execution_count": 52,
   "id": "90419af2",
   "metadata": {},
   "outputs": [],
   "source": [
    "h_list.insert_at(2,'식이')"
   ]
  },
  {
   "cell_type": "code",
   "execution_count": 53,
   "id": "0d123f34",
   "metadata": {},
   "outputs": [],
   "source": [
    "h_list.insert_at(8, 80)"
   ]
  },
  {
   "cell_type": "code",
   "execution_count": 54,
   "id": "b06f447e",
   "metadata": {},
   "outputs": [
    {
     "name": "stdout",
     "output_type": "stream",
     "text": [
      "error\n"
     ]
    }
   ],
   "source": [
    "h_list.insert_at(0, 200)"
   ]
  },
  {
   "cell_type": "code",
   "execution_count": 55,
   "id": "a28bcdce",
   "metadata": {},
   "outputs": [],
   "source": [
    "h_list.insert_at(1,200)"
   ]
  },
  {
   "cell_type": "code",
   "execution_count": 56,
   "id": "dba16e97",
   "metadata": {},
   "outputs": [],
   "source": [
    "h_list.insert_at(15,200)"
   ]
  },
  {
   "cell_type": "code",
   "execution_count": 57,
   "id": "de416a49",
   "metadata": {},
   "outputs": [
    {
     "name": "stdout",
     "output_type": "stream",
     "text": [
      "head -> (200) -> (20) -> (식이) -> (80) -> (순이) -> (90) -> (연희) -> (식이) -> (100) -> (80) -> (200) -> Null\n"
     ]
    }
   ],
   "source": [
    "h_list.traverse_all()"
   ]
  },
  {
   "cell_type": "markdown",
   "id": "776ebebc",
   "metadata": {},
   "source": [
    "### remove(key) 함수 사용하여 노드 삭제하기"
   ]
  },
  {
   "cell_type": "code",
   "execution_count": 58,
   "id": "2b1cdccf",
   "metadata": {},
   "outputs": [
    {
     "name": "stdout",
     "output_type": "stream",
     "text": [
      "3번째 원소 식이를 삭제합니다. 해당하는 원소가 없습니다.\n",
      "8번째 원소 식이를 삭제합니다. 해당하는 원소가 없습니다.\n"
     ]
    }
   ],
   "source": [
    "h_list.remove('식이')"
   ]
  },
  {
   "cell_type": "code",
   "execution_count": 59,
   "id": "1c1d2a2f",
   "metadata": {},
   "outputs": [
    {
     "name": "stdout",
     "output_type": "stream",
     "text": [
      "head -> (200) -> (20) -> (80) -> (순이) -> (90) -> (연희) -> (100) -> (80) -> (200) -> Null\n"
     ]
    }
   ],
   "source": [
    "h_list.traverse_all()"
   ]
  },
  {
   "cell_type": "code",
   "execution_count": 60,
   "id": "035f3599",
   "metadata": {
    "scrolled": true
   },
   "outputs": [
    {
     "name": "stdout",
     "output_type": "stream",
     "text": [
      "1번째 원소 200를 삭제합니다. 해당하는 원소가 없습니다.\n",
      "9번째 원소 200를 삭제합니다. 해당하는 원소가 없습니다.\n"
     ]
    }
   ],
   "source": [
    "h_list.remove(200)"
   ]
  },
  {
   "cell_type": "code",
   "execution_count": 61,
   "id": "489ab9cb",
   "metadata": {},
   "outputs": [
    {
     "name": "stdout",
     "output_type": "stream",
     "text": [
      "head -> (20) -> (80) -> (순이) -> (90) -> (연희) -> (100) -> (80) -> Null\n"
     ]
    }
   ],
   "source": [
    "h_list.traverse_all()"
   ]
  },
  {
   "cell_type": "code",
   "execution_count": 62,
   "id": "3506d3ac",
   "metadata": {},
   "outputs": [
    {
     "name": "stdout",
     "output_type": "stream",
     "text": [
      "2번째 원소 80를 삭제합니다. 해당하는 원소가 없습니다.\n",
      "7번째 원소 80를 삭제합니다. 해당하는 원소가 없습니다.\n"
     ]
    }
   ],
   "source": [
    "h_list.remove(80)"
   ]
  },
  {
   "cell_type": "code",
   "execution_count": 63,
   "id": "21e86e18",
   "metadata": {},
   "outputs": [
    {
     "name": "stdout",
     "output_type": "stream",
     "text": [
      "head -> (20) -> (순이) -> (90) -> (연희) -> (100) -> Null\n"
     ]
    }
   ],
   "source": [
    "h_list.traverse_all()"
   ]
  },
  {
   "cell_type": "markdown",
   "id": "1acc031c",
   "metadata": {},
   "source": [
    "## (문자열)로 이루어진 리스트인 경우"
   ]
  },
  {
   "cell_type": "markdown",
   "id": "8e668217",
   "metadata": {},
   "source": [
    "### LinkedList 만들기"
   ]
  },
  {
   "cell_type": "code",
   "execution_count": 64,
   "id": "58a4f9c2",
   "metadata": {},
   "outputs": [],
   "source": [
    "from myssl import *\n",
    "\n",
    "d_list = LinkedList()"
   ]
  },
  {
   "cell_type": "code",
   "execution_count": 65,
   "id": "55edb1bd",
   "metadata": {},
   "outputs": [],
   "source": [
    "d_list.head = Node('head')"
   ]
  },
  {
   "cell_type": "code",
   "execution_count": 66,
   "id": "40a586ee",
   "metadata": {},
   "outputs": [],
   "source": [
    "d_list.tail = d_list.head"
   ]
  },
  {
   "cell_type": "code",
   "execution_count": 67,
   "id": "aef38f0c",
   "metadata": {},
   "outputs": [],
   "source": [
    "d_list.append('희수')"
   ]
  },
  {
   "cell_type": "code",
   "execution_count": 68,
   "id": "018c1ce4",
   "metadata": {},
   "outputs": [],
   "source": [
    "d_list.append('통계')"
   ]
  },
  {
   "cell_type": "code",
   "execution_count": 69,
   "id": "aac88ea7",
   "metadata": {},
   "outputs": [],
   "source": [
    "d_list.append('정통')"
   ]
  },
  {
   "cell_type": "code",
   "execution_count": 70,
   "id": "6a0e31fd",
   "metadata": {},
   "outputs": [],
   "source": [
    "d_list.append('컴공')"
   ]
  },
  {
   "cell_type": "code",
   "execution_count": 71,
   "id": "4b000ba0",
   "metadata": {},
   "outputs": [],
   "source": [
    "d_list.append('산공')"
   ]
  },
  {
   "cell_type": "code",
   "execution_count": 72,
   "id": "578597e4",
   "metadata": {},
   "outputs": [],
   "source": [
    "d_list.append('데사')"
   ]
  },
  {
   "cell_type": "markdown",
   "id": "ce97e4e2",
   "metadata": {},
   "source": [
    "### traverse_all() 함수 사용하여 리스트 출력하기"
   ]
  },
  {
   "cell_type": "code",
   "execution_count": 73,
   "id": "ce86b3e7",
   "metadata": {},
   "outputs": [
    {
     "name": "stdout",
     "output_type": "stream",
     "text": [
      "head -> (희수) -> (통계) -> (정통) -> (컴공) -> (산공) -> (데사) -> Null\n"
     ]
    }
   ],
   "source": [
    "d_list.traverse_all()"
   ]
  },
  {
   "cell_type": "markdown",
   "id": "36c496b0",
   "metadata": {},
   "source": [
    "### insert_at(position, new_data) 함수 사용하여 노드 삽입하기"
   ]
  },
  {
   "cell_type": "code",
   "execution_count": 74,
   "id": "08782f66",
   "metadata": {},
   "outputs": [],
   "source": [
    "d_list.insert_at(3,'루마니어')"
   ]
  },
  {
   "cell_type": "code",
   "execution_count": 75,
   "id": "f2956200",
   "metadata": {},
   "outputs": [],
   "source": [
    "d_list.insert_at(1,'컴공')"
   ]
  },
  {
   "cell_type": "code",
   "execution_count": 76,
   "id": "ed13ce25",
   "metadata": {},
   "outputs": [],
   "source": [
    "d_list.insert_at(9,'수학')"
   ]
  },
  {
   "cell_type": "code",
   "execution_count": 77,
   "id": "1af24458",
   "metadata": {},
   "outputs": [
    {
     "name": "stdout",
     "output_type": "stream",
     "text": [
      "error\n"
     ]
    }
   ],
   "source": [
    "d_list.insert_at(0,'교수')"
   ]
  },
  {
   "cell_type": "code",
   "execution_count": 78,
   "id": "e0817585",
   "metadata": {},
   "outputs": [],
   "source": [
    "d_list.insert_at(2,'통대')"
   ]
  },
  {
   "cell_type": "code",
   "execution_count": 79,
   "id": "e1ca85c6",
   "metadata": {},
   "outputs": [
    {
     "name": "stdout",
     "output_type": "stream",
     "text": [
      "head -> (컴공) -> (통대) -> (희수) -> (통계) -> (루마니어) -> (정통) -> (컴공) -> (산공) -> (데사) -> (수학) -> Null\n"
     ]
    }
   ],
   "source": [
    "d_list.traverse_all()"
   ]
  },
  {
   "cell_type": "markdown",
   "id": "375861f6",
   "metadata": {},
   "source": [
    "### remove(key) 함수 사용하여 노드 삭제하기"
   ]
  },
  {
   "cell_type": "code",
   "execution_count": 80,
   "id": "da97aa53",
   "metadata": {},
   "outputs": [
    {
     "name": "stdout",
     "output_type": "stream",
     "text": [
      "1번째 원소 컴공를 삭제합니다. 해당하는 원소가 없습니다.\n",
      "7번째 원소 컴공를 삭제합니다. 해당하는 원소가 없습니다.\n"
     ]
    }
   ],
   "source": [
    "d_list.remove('컴공')"
   ]
  },
  {
   "cell_type": "code",
   "execution_count": 81,
   "id": "05f40bfd",
   "metadata": {},
   "outputs": [
    {
     "name": "stdout",
     "output_type": "stream",
     "text": [
      "head -> (통대) -> (희수) -> (통계) -> (루마니어) -> (정통) -> (산공) -> (데사) -> (수학) -> Null\n"
     ]
    }
   ],
   "source": [
    "d_list.traverse_all()"
   ]
  },
  {
   "cell_type": "code",
   "execution_count": 82,
   "id": "f59c19de",
   "metadata": {},
   "outputs": [
    {
     "name": "stdout",
     "output_type": "stream",
     "text": [
      "1번째 원소 통대를 삭제합니다. 해당하는 원소가 없습니다.\n"
     ]
    }
   ],
   "source": [
    "d_list.remove('통대')"
   ]
  },
  {
   "cell_type": "code",
   "execution_count": 83,
   "id": "7c609fc7",
   "metadata": {},
   "outputs": [
    {
     "name": "stdout",
     "output_type": "stream",
     "text": [
      "head -> (희수) -> (통계) -> (루마니어) -> (정통) -> (산공) -> (데사) -> (수학) -> Null\n"
     ]
    }
   ],
   "source": [
    "d_list.traverse_all()"
   ]
  }
 ],
 "metadata": {
  "kernelspec": {
   "display_name": "Python 3 (ipykernel)",
   "language": "python",
   "name": "python3"
  },
  "language_info": {
   "codemirror_mode": {
    "name": "ipython",
    "version": 3
   },
   "file_extension": ".py",
   "mimetype": "text/x-python",
   "name": "python",
   "nbconvert_exporter": "python",
   "pygments_lexer": "ipython3",
   "version": "3.10.9"
  },
  "toc": {
   "base_numbering": 1,
   "nav_menu": {},
   "number_sections": true,
   "sideBar": true,
   "skip_h1_title": false,
   "title_cell": "Table of Contents",
   "title_sidebar": "Contents",
   "toc_cell": false,
   "toc_position": {
    "height": "calc(100% - 180px)",
    "left": "10px",
    "top": "150px",
    "width": "492.475px"
   },
   "toc_section_display": true,
   "toc_window_display": true
  },
  "varInspector": {
   "cols": {
    "lenName": 16,
    "lenType": 16,
    "lenVar": 40
   },
   "kernels_config": {
    "python": {
     "delete_cmd_postfix": "",
     "delete_cmd_prefix": "del ",
     "library": "var_list.py",
     "varRefreshCmd": "print(var_dic_list())"
    },
    "r": {
     "delete_cmd_postfix": ") ",
     "delete_cmd_prefix": "rm(",
     "library": "var_list.r",
     "varRefreshCmd": "cat(var_dic_list()) "
    }
   },
   "types_to_exclude": [
    "module",
    "function",
    "builtin_function_or_method",
    "instance",
    "_Feature"
   ],
   "window_display": false
  }
 },
 "nbformat": 4,
 "nbformat_minor": 5
}
