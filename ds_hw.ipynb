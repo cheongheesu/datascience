{
 "cells": [
  {
   "cell_type": "markdown",
   "id": "defbe3f6",
   "metadata": {},
   "source": [
    "# 데이터사이언스개론 과제"
   ]
  },
  {
   "cell_type": "markdown",
   "id": "07eb2f76",
   "metadata": {},
   "source": [
    "## 통계학과 201904515 정희수"
   ]
  },
  {
   "cell_type": "code",
   "execution_count": 1,
   "id": "ff1e5fc9",
   "metadata": {},
   "outputs": [],
   "source": [
    "from myssl import *"
   ]
  },
  {
   "cell_type": "code",
   "execution_count": 2,
   "id": "ea13b367",
   "metadata": {},
   "outputs": [],
   "source": [
    "l_list=LinkedList()"
   ]
  },
  {
   "cell_type": "code",
   "execution_count": 3,
   "id": "34de85aa",
   "metadata": {},
   "outputs": [],
   "source": [
    "l_list.head=Node('dummy')"
   ]
  },
  {
   "cell_type": "code",
   "execution_count": 4,
   "id": "803ae702",
   "metadata": {},
   "outputs": [],
   "source": [
    "l_list.tail=l_list.head"
   ]
  },
  {
   "cell_type": "code",
   "execution_count": 5,
   "id": "80465daf",
   "metadata": {},
   "outputs": [],
   "source": [
    "l_list.append(100)"
   ]
  },
  {
   "cell_type": "code",
   "execution_count": 6,
   "id": "4d3ea855",
   "metadata": {},
   "outputs": [],
   "source": [
    "l_list.append(72)"
   ]
  },
  {
   "cell_type": "code",
   "execution_count": 7,
   "id": "564a0297",
   "metadata": {},
   "outputs": [],
   "source": [
    "l_list.append(325)"
   ]
  },
  {
   "cell_type": "code",
   "execution_count": 8,
   "id": "c658d1d2",
   "metadata": {
    "scrolled": true
   },
   "outputs": [
    {
     "name": "stdout",
     "output_type": "stream",
     "text": [
      "head -> (100) -> (72) -> (325) -> Null\n"
     ]
    }
   ],
   "source": [
    "l_list.traverse_all()"
   ]
  },
  {
   "cell_type": "code",
   "execution_count": 9,
   "id": "7b7d4274",
   "metadata": {
    "scrolled": false
   },
   "outputs": [],
   "source": [
    "l_list.insert_at(1,200)"
   ]
  },
  {
   "cell_type": "code",
   "execution_count": 10,
   "id": "56c29e3f",
   "metadata": {},
   "outputs": [
    {
     "name": "stdout",
     "output_type": "stream",
     "text": [
      "head -> (200) -> (100) -> (72) -> (325) -> Null\n"
     ]
    }
   ],
   "source": [
    "l_list.traverse_all()"
   ]
  },
  {
   "cell_type": "code",
   "execution_count": 11,
   "id": "d5a8bbe7",
   "metadata": {},
   "outputs": [],
   "source": [
    "l_list.insert_at(2,300)"
   ]
  },
  {
   "cell_type": "code",
   "execution_count": 12,
   "id": "d589c456",
   "metadata": {},
   "outputs": [
    {
     "name": "stdout",
     "output_type": "stream",
     "text": [
      "head -> (200) -> (300) -> (100) -> (72) -> (325) -> Null\n"
     ]
    }
   ],
   "source": [
    "l_list.traverse_all()"
   ]
  },
  {
   "cell_type": "code",
   "execution_count": 13,
   "id": "73b34f9b",
   "metadata": {},
   "outputs": [],
   "source": [
    "l_list.insert_at(4,500)"
   ]
  },
  {
   "cell_type": "code",
   "execution_count": 14,
   "id": "75ac9575",
   "metadata": {
    "scrolled": true
   },
   "outputs": [
    {
     "name": "stdout",
     "output_type": "stream",
     "text": [
      "head -> (200) -> (300) -> (100) -> (500) -> (72) -> (325) -> Null\n"
     ]
    }
   ],
   "source": [
    "l_list.traverse_all()"
   ]
  },
  {
   "cell_type": "code",
   "execution_count": 15,
   "id": "39b9b7c9",
   "metadata": {},
   "outputs": [
    {
     "name": "stdout",
     "output_type": "stream",
     "text": [
      "error\n"
     ]
    }
   ],
   "source": [
    "l_list.insert_at(0,600)"
   ]
  },
  {
   "cell_type": "code",
   "execution_count": 16,
   "id": "57d7451b",
   "metadata": {},
   "outputs": [
    {
     "name": "stdout",
     "output_type": "stream",
     "text": [
      "head -> (200) -> (300) -> (100) -> (500) -> (72) -> (325) -> Null\n"
     ]
    }
   ],
   "source": [
    "l_list.traverse_all()"
   ]
  },
  {
   "cell_type": "code",
   "execution_count": 17,
   "id": "6840263e",
   "metadata": {},
   "outputs": [],
   "source": [
    "l_list.insert_at(10,800)"
   ]
  },
  {
   "cell_type": "code",
   "execution_count": 18,
   "id": "8352fa6a",
   "metadata": {},
   "outputs": [
    {
     "name": "stdout",
     "output_type": "stream",
     "text": [
      "head -> (200) -> (300) -> (100) -> (500) -> (72) -> (325) -> (<myssl.Node object at 0x0000013348C02FE0>) -> Null\n"
     ]
    }
   ],
   "source": [
    "l_list.traverse_all()"
   ]
  },
  {
   "cell_type": "markdown",
   "id": "c4e62307",
   "metadata": {},
   "source": [
    "### traverse_all() 함수 설명"
   ]
  },
  {
   "cell_type": "markdown",
   "id": "859a1c0c",
   "metadata": {},
   "source": [
    "current = self.head.next 로 지정한것은 head 다음의 노드를 current 노드로 지정한 것을 의미합니다.\n",
    "\n",
    "만약 current 가 tail 노드라면 뒤 노드의 data 는 None 입니다.\n",
    "\n",
    "뒤에 데이터가 계속 있다면 데이터들을 계속적으로 출력한다."
   ]
  }
 ],
 "metadata": {
  "kernelspec": {
   "display_name": "Python 3 (ipykernel)",
   "language": "python",
   "name": "python3"
  },
  "language_info": {
   "codemirror_mode": {
    "name": "ipython",
    "version": 3
   },
   "file_extension": ".py",
   "mimetype": "text/x-python",
   "name": "python",
   "nbconvert_exporter": "python",
   "pygments_lexer": "ipython3",
   "version": "3.10.9"
  }
 },
 "nbformat": 4,
 "nbformat_minor": 5
}
