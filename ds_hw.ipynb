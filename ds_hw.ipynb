{
 "cells": [
  {
   "cell_type": "markdown",
   "id": "defbe3f6",
   "metadata": {},
   "source": [
    "# 데이터사이언스개론 과제"
   ]
  },
  {
   "cell_type": "markdown",
   "id": "07eb2f76",
   "metadata": {},
   "source": [
    "## 통계학과 201904515 정희수"
   ]
  },
  {
   "cell_type": "code",
   "execution_count": 1,
   "id": "ff1e5fc9",
   "metadata": {},
   "outputs": [],
   "source": [
    "from myssl import *"
   ]
  },
  {
   "cell_type": "code",
   "execution_count": 2,
   "id": "ea13b367",
   "metadata": {},
   "outputs": [],
   "source": [
    "l_list=LinkedList()"
   ]
  },
  {
   "cell_type": "code",
   "execution_count": 3,
   "id": "34de85aa",
   "metadata": {},
   "outputs": [],
   "source": [
    "l_list.head=Node('dummy')"
   ]
  },
  {
   "cell_type": "code",
   "execution_count": 4,
   "id": "803ae702",
   "metadata": {},
   "outputs": [],
   "source": [
    "l_list.tail=l_list.head"
   ]
  },
  {
   "cell_type": "code",
   "execution_count": 5,
   "id": "80465daf",
   "metadata": {},
   "outputs": [],
   "source": [
    "l_list.append(100)"
   ]
  },
  {
   "cell_type": "code",
   "execution_count": 6,
   "id": "4d3ea855",
   "metadata": {},
   "outputs": [],
   "source": [
    "l_list.append(72)"
   ]
  },
  {
   "cell_type": "code",
   "execution_count": 7,
   "id": "564a0297",
   "metadata": {},
   "outputs": [],
   "source": [
    "l_list.append(325)"
   ]
  },
  {
   "cell_type": "code",
   "execution_count": 8,
   "id": "c658d1d2",
   "metadata": {
    "scrolled": true
   },
   "outputs": [
    {
     "name": "stdout",
     "output_type": "stream",
     "text": [
      "head -> (100) -> (72) -> (325) -> Null\n"
     ]
    }
   ],
   "source": [
    "l_list.traverse_all()"
   ]
  },
  {
   "cell_type": "code",
   "execution_count": 9,
   "id": "7b7d4274",
   "metadata": {
    "scrolled": false
   },
   "outputs": [],
   "source": [
    "l_list.insert_at(1,200)"
   ]
  },
  {
   "cell_type": "code",
   "execution_count": 10,
   "id": "56c29e3f",
   "metadata": {},
   "outputs": [
    {
     "name": "stdout",
     "output_type": "stream",
     "text": [
      "head -> (200) -> (100) -> (72) -> (325) -> Null\n"
     ]
    }
   ],
   "source": [
    "l_list.traverse_all()"
   ]
  },
  {
   "cell_type": "code",
   "execution_count": 11,
   "id": "d5a8bbe7",
   "metadata": {},
   "outputs": [],
   "source": [
    "l_list.insert_at(2,300)"
   ]
  },
  {
   "cell_type": "code",
   "execution_count": 12,
   "id": "d589c456",
   "metadata": {},
   "outputs": [
    {
     "name": "stdout",
     "output_type": "stream",
     "text": [
      "head -> (200) -> (300) -> (100) -> (72) -> (325) -> Null\n"
     ]
    }
   ],
   "source": [
    "l_list.traverse_all()"
   ]
  },
  {
   "cell_type": "code",
   "execution_count": 13,
   "id": "73b34f9b",
   "metadata": {},
   "outputs": [],
   "source": [
    "l_list.insert_at(4,500)"
   ]
  },
  {
   "cell_type": "code",
   "execution_count": 14,
   "id": "75ac9575",
   "metadata": {
    "scrolled": true
   },
   "outputs": [
    {
     "name": "stdout",
     "output_type": "stream",
     "text": [
      "head -> (200) -> (300) -> (100) -> (500) -> (72) -> (325) -> Null\n"
     ]
    }
   ],
   "source": [
    "l_list.traverse_all()"
   ]
  },
  {
   "cell_type": "code",
   "execution_count": 15,
   "id": "01dfd9f2",
   "metadata": {},
   "outputs": [
    {
     "name": "stdout",
     "output_type": "stream",
     "text": [
      "error\n"
     ]
    }
   ],
   "source": [
    "l_list.insert_at(0,600)"
   ]
  },
  {
   "cell_type": "code",
   "execution_count": 16,
   "id": "fd43669c",
   "metadata": {},
   "outputs": [
    {
     "name": "stdout",
     "output_type": "stream",
     "text": [
      "head -> (200) -> (300) -> (100) -> (500) -> (72) -> (325) -> Null\n"
     ]
    }
   ],
   "source": [
    "l_list.traverse_all()"
   ]
  },
  {
   "cell_type": "code",
   "execution_count": 17,
   "id": "afcb7812",
   "metadata": {},
   "outputs": [],
   "source": [
    "l_list.insert_at(10,800)"
   ]
  },
  {
   "cell_type": "code",
   "execution_count": 18,
   "id": "ca5f45cb",
   "metadata": {},
   "outputs": [
    {
     "name": "stdout",
     "output_type": "stream",
     "text": [
      "head -> (200) -> (300) -> (100) -> (500) -> (72) -> (325) -> (800) -> Null\n"
     ]
    }
   ],
   "source": [
    "l_list.traverse_all()"
   ]
  }
 ],
 "metadata": {
  "kernelspec": {
   "display_name": "Python 3 (ipykernel)",
   "language": "python",
   "name": "python3"
  },
  "language_info": {
   "codemirror_mode": {
    "name": "ipython",
    "version": 3
   },
   "file_extension": ".py",
   "mimetype": "text/x-python",
   "name": "python",
   "nbconvert_exporter": "python",
   "pygments_lexer": "ipython3",
   "version": "3.10.9"
  }
 },
 "nbformat": 4,
 "nbformat_minor": 5
}
